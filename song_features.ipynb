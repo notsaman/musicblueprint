{
 "cells": [
  {
   "cell_type": "markdown",
   "metadata": {},
   "source": [
    "# Retrieves song features from the Spotify API"
   ]
  },
  {
   "cell_type": "code",
   "execution_count": 51,
   "metadata": {},
   "outputs": [],
   "source": [
    "from __future__ import print_function    # (at top of module)\n",
    "import pandas as pd\n",
    "from spotipy.oauth2 import SpotifyClientCredentials\n",
    "import json\n",
    "import spotipy\n",
    "import time\n",
    "import sys\n",
    "import csv\n",
    "import numpy as np"
   ]
  },
  {
   "cell_type": "code",
   "execution_count": 75,
   "metadata": {},
   "outputs": [],
   "source": [
    "client_credentials_manager = SpotifyClientCredentials(client_id='c979f37a064e455e8778dbcd331c2d5d', \n",
    "                                                      client_secret='dc6fcb571e72436e8d13df8e6799b833')\n",
    "sp = spotipy.Spotify(client_credentials_manager=client_credentials_manager)\n",
    "sp.trace=False"
   ]
  },
  {
   "cell_type": "code",
   "execution_count": 76,
   "metadata": {},
   "outputs": [],
   "source": [
    "df = pd.read_csv(\"top_200_daily.csv\")\n",
    "df = df.iloc[0:200]\n",
    "df[\"Position\"] = pd.to_numeric(df[\"Position\"])"
   ]
  },
  {
   "cell_type": "code",
   "execution_count": 77,
   "metadata": {},
   "outputs": [
    {
     "name": "stdout",
     "output_type": "stream",
     "text": [
      "retrying ...7secs\n"
     ]
    }
   ],
   "source": [
    "features = []\n",
    "\n",
    "i = 0\n",
    "while i < len(df): \n",
    "    features.append(sp.audio_features(df[\"spotify_id\"][i]))\n",
    "    i += 1\n",
    "    \n",
    "features = [item for items in features for item in items] #flattens list\n",
    "audio_features = pd.DataFrame(features)\n",
    "audio_features.drop(['type', 'uri', 'track_href', 'analysis_url'], axis=1, inplace=True)\n",
    "\n",
    "songs = audio_features.join(df[\"Position\"])\n",
    "songs = songs.join(df[\"Artist\"])\n",
    "songs = songs.join(df[\"Track Name\"])"
   ]
  },
  {
   "cell_type": "code",
   "execution_count": 83,
   "metadata": {},
   "outputs": [
    {
     "name": "stderr",
     "output_type": "stream",
     "text": [
      "/home/saman/anaconda3/lib/python3.7/site-packages/ipykernel_launcher.py:5: SettingWithCopyWarning: \n",
      "A value is trying to be set on a copy of a slice from a DataFrame.\n",
      "Try using .loc[row_indexer,col_indexer] = value instead\n",
      "\n",
      "See the caveats in the documentation: http://pandas.pydata.org/pandas-docs/stable/user_guide/indexing.html#returning-a-view-versus-a-copy\n",
      "  \"\"\"\n"
     ]
    }
   ],
   "source": [
    "chunks = []\n",
    "ranking = 5\n",
    "\n",
    "for g, df in songs.groupby(np.arange(len(songs)) // 40):\n",
    "    df['weight'] = ranking\n",
    "    ranking -= 1\n",
    "    chunks.append(df)\n",
    "    \n",
    "chunks = pd.concat(chunks)\n",
    "chunks.to_csv(\"song_features\")"
   ]
  }
 ],
 "metadata": {
  "kernelspec": {
   "display_name": "Python 3",
   "language": "python",
   "name": "python3"
  },
  "language_info": {
   "codemirror_mode": {
    "name": "ipython",
    "version": 3
   },
   "file_extension": ".py",
   "mimetype": "text/x-python",
   "name": "python",
   "nbconvert_exporter": "python",
   "pygments_lexer": "ipython3",
   "version": "3.7.4"
  }
 },
 "nbformat": 4,
 "nbformat_minor": 2
}
