{
 "cells": [
  {
   "cell_type": "code",
   "execution_count": 1,
   "metadata": {},
   "outputs": [],
   "source": [
    "from __future__ import print_function    # (at top of module)\n",
    "import pandas as pd\n",
    "from spotipy.oauth2 import SpotifyClientCredentials\n",
    "import json\n",
    "import spotipy\n",
    "import time\n",
    "import sys\n",
    "import csv\n",
    "import numpy as np\n",
    "import matplotlib.pyplot as plt"
   ]
  },
  {
   "cell_type": "markdown",
   "metadata": {},
   "source": [
    "### Creates Blueprint values for the continuous variables"
   ]
  },
  {
   "cell_type": "code",
   "execution_count": 2,
   "metadata": {},
   "outputs": [],
   "source": [
    "df = pd.read_csv(\"song_features\")\n",
    "\n",
    "conts = ['danceability', 'energy', 'loudness', \n",
    "         'speechiness', 'acousticness', 'instrumentalness', \n",
    "         'liveness', 'valence', 'tempo', 'duration_ms']\n",
    "\n",
    "blueprint_conts = []\n",
    "\n",
    "for cont in conts: \n",
    "    df[cont] = df[cont] * df[\"weight\"]\n",
    "    avg = df[cont].sum()/600\n",
    "    blueprint = {cont: avg}\n",
    "    blueprint_conts.append(blueprint)\n",
    "    \n",
    "blueprint_conts = {k:v for element in blueprint_conts for k,v in element.items()} #flatten dicts"
   ]
  },
  {
   "cell_type": "code",
   "execution_count": 3,
   "metadata": {},
   "outputs": [
    {
     "data": {
      "text/plain": [
       "{'danceability': 0.6861566666666666,\n",
       " 'energy': 0.6228149999999999,\n",
       " 'loudness': -6.826856666666666,\n",
       " 'speechiness': 0.14374933333333334,\n",
       " 'acousticness': 0.18034419,\n",
       " 'instrumentalness': 0.009071430516666666,\n",
       " 'liveness': 0.16765433333333335,\n",
       " 'valence': 0.49619566666666665,\n",
       " 'tempo': 124.13454499999997,\n",
       " 'duration_ms': 222506.07}"
      ]
     },
     "execution_count": 3,
     "metadata": {},
     "output_type": "execute_result"
    }
   ],
   "source": [
    "blueprint_conts"
   ]
  },
  {
   "cell_type": "code",
   "execution_count": 28,
   "metadata": {},
   "outputs": [],
   "source": [
    "df_rs = pd.read_csv(\"rs_song_features\")\n",
    "\n",
    "blueprint_conts_rs = []\n",
    "\n",
    "for cont in conts: \n",
    "    avg = df_rs[cont].sum()/974\n",
    "    blueprint = {cont: avg}\n",
    "    blueprint_conts_rs.append(blueprint)\n",
    "    \n",
    "blueprint_conts_rs = {k:v for element in blueprint_conts_rs for k,v in element.items()}"
   ]
  },
  {
   "cell_type": "code",
   "execution_count": 29,
   "metadata": {},
   "outputs": [
    {
     "data": {
      "text/plain": [
       "{'danceability': 0.5737043121149897,\n",
       " 'energy': 0.6026606776180697,\n",
       " 'loudness': -9.58835523613963,\n",
       " 'speechiness': 0.06933737166324436,\n",
       " 'acousticness': 0.32590785878850104,\n",
       " 'instrumentalness': 0.05975457283367557,\n",
       " 'liveness': 0.18954024640657086,\n",
       " 'valence': 0.628181930184805,\n",
       " 'tempo': 120.87820841889118,\n",
       " 'duration_ms': 236642.0338809035}"
      ]
     },
     "execution_count": 29,
     "metadata": {},
     "output_type": "execute_result"
    }
   ],
   "source": [
    "blueprint_conts_rs"
   ]
  },
  {
   "cell_type": "markdown",
   "metadata": {},
   "source": [
    "### Creates Blueprint values for the discrete variables - WIP"
   ]
  },
  {
   "cell_type": "code",
   "execution_count": 78,
   "metadata": {},
   "outputs": [],
   "source": [
    "df = pd.read_csv(\"song_features\")\n",
    "discs = [\"mode\", \"key\", \"time_signature\"]\n",
    "\n",
    "features = []\n",
    "\n",
    "for disc in discs:\n",
    "    ratios = []\n",
    "    for v in df[disc].unique():\n",
    "        counts = 0\n",
    "        for i in range(len(df)):\n",
    "            if df[disc][i] == v:\n",
    "                counts += df[\"weight\"][i]\n",
    "        ratios.append({v : counts})\n",
    "    features.append({disc : ratios})"
   ]
  },
  {
   "cell_type": "code",
   "execution_count": 79,
   "metadata": {},
   "outputs": [
    {
     "data": {
      "text/plain": [
       "[{'mode': [{1: 350}, {0: 250}]},\n",
       " {'key': [{11: 59},\n",
       "   {9: 38},\n",
       "   {7: 62},\n",
       "   {8: 61},\n",
       "   {0: 89},\n",
       "   {1: 67},\n",
       "   {10: 48},\n",
       "   {2: 24},\n",
       "   {6: 58},\n",
       "   {4: 38},\n",
       "   {5: 43},\n",
       "   {3: 13}]},\n",
       " {'time_signature': [{4: 580}, {5: 14}, {3: 6}]}]"
      ]
     },
     "execution_count": 79,
     "metadata": {},
     "output_type": "execute_result"
    }
   ],
   "source": [
    "features"
   ]
  },
  {
   "cell_type": "code",
   "execution_count": 75,
   "metadata": {},
   "outputs": [],
   "source": [
    "df = pd.read_csv(\"rs_song_features\")\n",
    "discs = [\"mode\", \"key\", \"time_signature\"]\n",
    "\n",
    "features = []\n",
    "\n",
    "for disc in discs:\n",
    "    ratios = []\n",
    "    for v in df[disc].unique():\n",
    "        counts = 0\n",
    "        for i in range(len(df)):\n",
    "            if df[disc][i] == v:\n",
    "                counts += 1\n",
    "        ratios.append({v : counts})\n",
    "    features.append({disc : ratios})"
   ]
  },
  {
   "cell_type": "code",
   "execution_count": 76,
   "metadata": {},
   "outputs": [
    {
     "data": {
      "text/plain": [
       "[{'mode': [{1: 733}, {0: 241}]},\n",
       " {'key': [{9: 127},\n",
       "   {2: 121},\n",
       "   {1: 72},\n",
       "   {4: 91},\n",
       "   {0: 120},\n",
       "   {7: 123},\n",
       "   {10: 66},\n",
       "   {6: 45},\n",
       "   {3: 34},\n",
       "   {5: 77},\n",
       "   {11: 66},\n",
       "   {8: 32}]},\n",
       " {'time_signature': [{4: 900}, {3: 64}, {1: 4}, {5: 6}]}]"
      ]
     },
     "execution_count": 76,
     "metadata": {},
     "output_type": "execute_result"
    }
   ],
   "source": [
    "features"
   ]
  },
  {
   "cell_type": "code",
   "execution_count": 77,
   "metadata": {},
   "outputs": [
    {
     "data": {
      "text/plain": [
       "9     127\n",
       "7     123\n",
       "2     121\n",
       "0     120\n",
       "4      91\n",
       "5      77\n",
       "1      72\n",
       "11     66\n",
       "10     66\n",
       "6      45\n",
       "3      34\n",
       "8      32\n",
       "Name: key, dtype: int64"
      ]
     },
     "execution_count": 77,
     "metadata": {},
     "output_type": "execute_result"
    }
   ],
   "source": [
    "df[\"key\"].value_counts()"
   ]
  },
  {
   "cell_type": "code",
   "execution_count": null,
   "metadata": {},
   "outputs": [],
   "source": [
    "def perc(x, y):\n",
    "    \n",
    "    "
   ]
  }
 ],
 "metadata": {
  "kernelspec": {
   "display_name": "Python 3",
   "language": "python",
   "name": "python3"
  },
  "language_info": {
   "codemirror_mode": {
    "name": "ipython",
    "version": 3
   },
   "file_extension": ".py",
   "mimetype": "text/x-python",
   "name": "python",
   "nbconvert_exporter": "python",
   "pygments_lexer": "ipython3",
   "version": "3.7.4"
  }
 },
 "nbformat": 4,
 "nbformat_minor": 2
}
