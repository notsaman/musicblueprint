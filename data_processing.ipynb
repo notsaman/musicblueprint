{
 "cells": [
  {
   "cell_type": "code",
   "execution_count": 1,
   "metadata": {},
   "outputs": [],
   "source": [
    "from __future__ import print_function    # (at top of module)\n",
    "import pandas as pd\n",
    "from spotipy.oauth2 import SpotifyClientCredentials\n",
    "import json\n",
    "import spotipy\n",
    "import time\n",
    "import sys\n",
    "import csv\n",
    "import numpy as np"
   ]
  },
  {
   "cell_type": "markdown",
   "metadata": {},
   "source": [
    "### Creates Blueprint values for the continuous variables"
   ]
  },
  {
   "cell_type": "code",
   "execution_count": 87,
   "metadata": {},
   "outputs": [],
   "source": [
    "df = pd.read_csv(\"song_features\")\n",
    "\n",
    "conts = ['danceability', 'energy', 'loudness', \n",
    "         'speechiness', 'acousticness', 'instrumentalness', \n",
    "         'liveness', 'valence', 'tempo', 'duration_ms']\n",
    "\n",
    "blueprint_conts = []\n",
    "\n",
    "for cont in conts: \n",
    "    df[cont] = df[cont] * df[\"weight\"]\n",
    "    avg = df[cont].sum()/600\n",
    "    blueprint = {cont: avg}\n",
    "    blueprint_conts.append(blueprint)"
   ]
  },
  {
   "cell_type": "code",
   "execution_count": 38,
   "metadata": {},
   "outputs": [
    {
     "data": {
      "text/plain": [
       "[{'danceability': 7587579239.355733},\n",
       " {'energy': 94987.33830833335},\n",
       " {'loudness': -1040887.0716666667},\n",
       " {'speechiness': 26319.695741666666},\n",
       " {'acousticness': 27171.936871349997},\n",
       " {'instrumentalness': 154.24373200058335},\n",
       " {'liveness': 24325.23260333333},\n",
       " {'valence': 70557.07852666666},\n",
       " {'tempo': 18978210.394625},\n",
       " {'duration_ms': 35339647758.0}]"
      ]
     },
     "execution_count": 38,
     "metadata": {},
     "output_type": "execute_result"
    }
   ],
   "source": [
    "blueprint_conts"
   ]
  },
  {
   "cell_type": "markdown",
   "metadata": {},
   "source": [
    "### Creates Blueprint values for the discrete variables"
   ]
  },
  {
   "cell_type": "code",
   "execution_count": null,
   "metadata": {},
   "outputs": [],
   "source": [
    "df = pd.read_csv(\"song_features\")\n",
    "\n",
    "disc = ['danceability', 'energy', 'key', 'loudness', 'mode',\n",
    "       'speechiness', 'acousticness', 'instrumentalness', 'liveness',\n",
    "       'valence', 'tempo', ''time_signature']"
   ]
  },
  {
   "cell_type": "code",
   "execution_count": 90,
   "metadata": {},
   "outputs": [
    {
     "data": {
      "text/plain": [
       "Index(['Unnamed: 0', 'danceability', 'energy', 'key', 'loudness', 'mode',\n",
       "       'speechiness', 'acousticness', 'instrumentalness', 'liveness',\n",
       "       'valence', 'tempo', 'id', 'duration_ms', 'time_signature', 'Position',\n",
       "       'Artist', 'Track Name', 'weight'],\n",
       "      dtype='object')"
      ]
     },
     "execution_count": 90,
     "metadata": {},
     "output_type": "execute_result"
    }
   ],
   "source": [
    "df.columns"
   ]
  },
  {
   "cell_type": "code",
   "execution_count": null,
   "metadata": {},
   "outputs": [],
   "source": []
  }
 ],
 "metadata": {
  "kernelspec": {
   "display_name": "Python 3",
   "language": "python",
   "name": "python3"
  },
  "language_info": {
   "codemirror_mode": {
    "name": "ipython",
    "version": 3
   },
   "file_extension": ".py",
   "mimetype": "text/x-python",
   "name": "python",
   "nbconvert_exporter": "python",
   "pygments_lexer": "ipython3",
   "version": "3.7.4"
  }
 },
 "nbformat": 4,
 "nbformat_minor": 2
}
