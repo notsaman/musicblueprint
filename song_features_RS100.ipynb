{
 "cells": [
  {
   "cell_type": "markdown",
   "metadata": {},
   "source": [
    "# Retrieves song features from the Spotify API using the Rolling Stones Top 100 artists list"
   ]
  },
  {
   "cell_type": "code",
   "execution_count": 76,
   "metadata": {},
   "outputs": [],
   "source": [
    "import pandas as pd\n",
    "from spotipy.oauth2 import SpotifyClientCredentials\n",
    "import spotipy\n",
    "import numpy as np\n",
    "from tqdm.notebook import tqdm"
   ]
  },
  {
   "cell_type": "code",
   "execution_count": 68,
   "metadata": {},
   "outputs": [],
   "source": [
    "client_credentials_manager = SpotifyClientCredentials(client_id='c979f37a064e455e8778dbcd331c2d5d', \n",
    "                                                      client_secret='dc6fcb571e72436e8d13df8e6799b833')\n",
    "sp = spotipy.Spotify(client_credentials_manager=client_credentials_manager)\n",
    "sp.trace=False"
   ]
  },
  {
   "cell_type": "code",
   "execution_count": 69,
   "metadata": {},
   "outputs": [],
   "source": [
    "df = pd.read_csv(\"data/rollingstones.csv\")\n",
    "#df = df.iloc[1:]"
   ]
  },
  {
   "cell_type": "code",
   "execution_count": 70,
   "metadata": {},
   "outputs": [
    {
     "data": {
      "text/html": [
       "<div>\n",
       "<style scoped>\n",
       "    .dataframe tbody tr th:only-of-type {\n",
       "        vertical-align: middle;\n",
       "    }\n",
       "\n",
       "    .dataframe tbody tr th {\n",
       "        vertical-align: top;\n",
       "    }\n",
       "\n",
       "    .dataframe thead th {\n",
       "        text-align: right;\n",
       "    }\n",
       "</style>\n",
       "<table border=\"1\" class=\"dataframe\">\n",
       "  <thead>\n",
       "    <tr style=\"text-align: right;\">\n",
       "      <th></th>\n",
       "      <th>artist</th>\n",
       "    </tr>\n",
       "  </thead>\n",
       "  <tbody>\n",
       "    <tr>\n",
       "      <td>0</td>\n",
       "      <td>The Band</td>\n",
       "    </tr>\n",
       "    <tr>\n",
       "      <td>1</td>\n",
       "      <td>Elton John</td>\n",
       "    </tr>\n",
       "    <tr>\n",
       "      <td>2</td>\n",
       "      <td>Run-DMC</td>\n",
       "    </tr>\n",
       "    <tr>\n",
       "      <td>3</td>\n",
       "      <td>Patti Smith</td>\n",
       "    </tr>\n",
       "    <tr>\n",
       "      <td>4</td>\n",
       "      <td>Janis Joplin</td>\n",
       "    </tr>\n",
       "    <tr>\n",
       "      <td>...</td>\n",
       "      <td>...</td>\n",
       "    </tr>\n",
       "    <tr>\n",
       "      <td>95</td>\n",
       "      <td>Eric Clapton</td>\n",
       "    </tr>\n",
       "    <tr>\n",
       "      <td>96</td>\n",
       "      <td>Howlin’ Wolf</td>\n",
       "    </tr>\n",
       "    <tr>\n",
       "      <td>97</td>\n",
       "      <td>The Allman Brothers Band</td>\n",
       "    </tr>\n",
       "    <tr>\n",
       "      <td>98</td>\n",
       "      <td>Queen</td>\n",
       "    </tr>\n",
       "    <tr>\n",
       "      <td>99</td>\n",
       "      <td>Pink Floyd</td>\n",
       "    </tr>\n",
       "  </tbody>\n",
       "</table>\n",
       "<p>100 rows × 1 columns</p>\n",
       "</div>"
      ],
      "text/plain": [
       "                      artist\n",
       "0                   The Band\n",
       "1                 Elton John\n",
       "2                    Run-DMC\n",
       "3                Patti Smith\n",
       "4               Janis Joplin\n",
       "..                       ...\n",
       "95              Eric Clapton\n",
       "96              Howlin’ Wolf\n",
       "97  The Allman Brothers Band\n",
       "98                     Queen\n",
       "99                Pink Floyd\n",
       "\n",
       "[100 rows x 1 columns]"
      ]
     },
     "execution_count": 70,
     "metadata": {},
     "output_type": "execute_result"
    }
   ],
   "source": [
    "df"
   ]
  },
  {
   "cell_type": "code",
   "execution_count": 71,
   "metadata": {},
   "outputs": [],
   "source": [
    "#Gets artist ids\n",
    "artist_ids = []\n",
    "\n",
    "for artist in df[\"artist\"]:\n",
    "    search = sp.search(q=artist, type=\"artist\")\n",
    "    results = search['artists']['items']\n",
    "    if len(results) > 0:\n",
    "            sp_artist = results[0]['id']\n",
    "            artist_ids.append(sp_artist)"
   ]
  },
  {
   "cell_type": "code",
   "execution_count": 72,
   "metadata": {},
   "outputs": [
    {
     "name": "stdout",
     "output_type": "stream",
     "text": [
      "retrying ...2secs\n"
     ]
    }
   ],
   "source": [
    "#Gets top tracks in Spotify's format\n",
    "top_tracks = []\n",
    "\n",
    "for artist_id in artist_ids:\n",
    "    track = sp.artist_top_tracks(artist_id, country='US')\n",
    "    top_tracks.append(track)"
   ]
  },
  {
   "cell_type": "code",
   "execution_count": 73,
   "metadata": {},
   "outputs": [],
   "source": [
    "#Packages data into DataFrame\n",
    "tracks = []\n",
    "\n",
    "for track, artist in zip(top_tracks, df[\"artist\"]):\n",
    "    for i in range(len(track['tracks'])):\n",
    "        track_name = track['tracks'][i]['name']\n",
    "        track_id = track['tracks'][i]['id']\n",
    "        song = {\"artist\" : artist,\n",
    "                \"track\" : track_name,\n",
    "                \"id\" : track_id}\n",
    "        tracks.append(song)\n",
    "        \n",
    "df = pd.DataFrame(tracks)\n",
    "df.to_csv(\"rs100_songs\")"
   ]
  },
  {
   "cell_type": "code",
   "execution_count": 75,
   "metadata": {},
   "outputs": [
    {
     "data": {
      "text/plain": [
       "'4QMSq1uq0JgvyKhEDp8wkx'"
      ]
     },
     "execution_count": 75,
     "metadata": {},
     "output_type": "execute_result"
    }
   ],
   "source": [
    "df[\"id\"][1]"
   ]
  },
  {
   "cell_type": "code",
   "execution_count": 78,
   "metadata": {},
   "outputs": [
    {
     "name": "stdout",
     "output_type": "stream",
     "text": [
      "retrying ...2secs\n",
      "retrying ...6secs\n",
      "retrying ...7secs\n",
      "retrying ...5secs\n",
      "retrying ...7secs\n",
      "retrying ...6secs\n",
      "retrying ...7secs\n"
     ]
    }
   ],
   "source": [
    "features = []\n",
    "\n",
    "i = 0\n",
    "while i < len(df): \n",
    "    features.append(sp.audio_features(df[\"id\"][i]))\n",
    "    i += 1\n",
    "    \n",
    "features = [item for items in features for item in items] #flattens list\n",
    "audio_features = pd.DataFrame(features)\n",
    "audio_features.drop(['type', 'uri', 'track_href', 'analysis_url'], axis=1, inplace=True)\n",
    "\n",
    "songs = audio_features.join(df[\"artist\"])\n",
    "songs = songs.join(df[\"track\"])\n",
    "songs.to_csv(\"rs_song_features\")"
   ]
  }
 ],
 "metadata": {
  "kernelspec": {
   "display_name": "Python 3",
   "language": "python",
   "name": "python3"
  },
  "language_info": {
   "codemirror_mode": {
    "name": "ipython",
    "version": 3
   },
   "file_extension": ".py",
   "mimetype": "text/x-python",
   "name": "python",
   "nbconvert_exporter": "python",
   "pygments_lexer": "ipython3",
   "version": "3.7.4"
  }
 },
 "nbformat": 4,
 "nbformat_minor": 2
}
