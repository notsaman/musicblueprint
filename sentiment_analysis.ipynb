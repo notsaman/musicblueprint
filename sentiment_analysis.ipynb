{
 "cells": [
  {
   "cell_type": "markdown",
   "metadata": {},
   "source": [
    "### Returns a simple sentiment (pos, neutral, negative) based on the lyrics"
   ]
  },
  {
   "cell_type": "code",
   "execution_count": 1,
   "metadata": {},
   "outputs": [
    {
     "name": "stderr",
     "output_type": "stream",
     "text": [
      "[nltk_data] Error loading vader_lexicon: <urlopen error [Errno 113] No\n",
      "[nltk_data]     route to host>\n"
     ]
    },
    {
     "data": {
      "text/plain": [
       "False"
      ]
     },
     "execution_count": 1,
     "metadata": {},
     "output_type": "execute_result"
    }
   ],
   "source": [
    "import pandas as pd\n",
    "import nltk\n",
    "nltk.download('vader_lexicon')"
   ]
  },
  {
   "cell_type": "code",
   "execution_count": 4,
   "metadata": {},
   "outputs": [],
   "source": [
    "lyrics = pd.read_csv(\"lyrics_proc\") #Spotify\n",
    "lyrics = pd.read"
   ]
  },
  {
   "cell_type": "code",
   "execution_count": 54,
   "metadata": {},
   "outputs": [],
   "source": [
    "from nltk.sentiment.vader import SentimentIntensityAnalyzer\n",
    "sid = SentimentIntensityAnalyzer()\n",
    "\n",
    "sentiments = []\n",
    "\n",
    "for song in lyrics[\"lyrics\"]:\n",
    "    if type(song) is not str: \n",
    "        sentiments.append(99)\n",
    "        continue\n",
    "    score = sid.polarity_scores(song)[\"compound\"]\n",
    "    \n",
    "    if score >= 0.5:\n",
    "        sentiments.append(1)\n",
    "    elif score > 0.5 and score < 0.5:\n",
    "        sentiments.append(0)\n",
    "    else:\n",
    "        sentiments.append(-1)\n",
    "        \n",
    "lyrics[\"sentiment\"] = sentiments\n",
    "lyrics.to_csv(\"spot_lyric_sent.csv\")"
   ]
  },
  {
   "cell_type": "code",
   "execution_count": 20,
   "metadata": {},
   "outputs": [
    {
     "data": {
      "text/plain": [
       "{'neg': 0.578, 'neu': 0.422, 'pos': 0.0, 'compound': -0.6681}"
      ]
     },
     "execution_count": 20,
     "metadata": {},
     "output_type": "execute_result"
    }
   ],
   "source": [
    "from nltk.sentiment.vader import SentimentIntensityAnalyzer\n",
    "sid = SentimentIntensityAnalyzer()\n",
    "\n",
    "sid.polarity_scores(\"i do not like you i love you\")"
   ]
  },
  {
   "cell_type": "code",
   "execution_count": 14,
   "metadata": {},
   "outputs": [
    {
     "data": {
      "text/plain": [
       "{'neg': 1.0, 'neu': 0.0, 'pos': 0.0, 'compound': -0.4767}"
      ]
     },
     "execution_count": 14,
     "metadata": {},
     "output_type": "execute_result"
    }
   ],
   "source": [
    "sid.polarity_scores(\"hurts\")"
   ]
  },
  {
   "cell_type": "code",
   "execution_count": 56,
   "metadata": {},
   "outputs": [
    {
     "data": {
      "text/plain": [
       " 1     100\n",
       "-1      94\n",
       " 99      6\n",
       "Name: sentiment, dtype: int64"
      ]
     },
     "execution_count": 56,
     "metadata": {},
     "output_type": "execute_result"
    }
   ],
   "source": [
    "lyrics[\"sentiment\"].value_counts()"
   ]
  },
  {
   "cell_type": "code",
   "execution_count": 57,
   "metadata": {},
   "outputs": [],
   "source": [
    "lyrics = pd.read_csv(\"lyrics_rs100_v2\")"
   ]
  },
  {
   "cell_type": "code",
   "execution_count": 58,
   "metadata": {},
   "outputs": [],
   "source": [
    "from nltk.sentiment.vader import SentimentIntensityAnalyzer\n",
    "sid = SentimentIntensityAnalyzer()\n",
    "\n",
    "sentiments = []\n",
    "\n",
    "for song in lyrics[\"lyrics\"]:\n",
    "    if type(song) is not str: \n",
    "        sentiments.append(99)\n",
    "        continue\n",
    "    score = sid.polarity_scores(song)[\"compound\"]\n",
    "    \n",
    "    if score >= 0.5:\n",
    "        sentiments.append(1)\n",
    "    elif score > 0.5 and score < 0.5:\n",
    "        sentiments.append(0)\n",
    "    else:\n",
    "        sentiments.append(-1)\n",
    "        \n",
    "lyrics[\"sentiment\"] = sentiments\n",
    "lyrics.to_csv(\"spot_lyric_sent.csv\")"
   ]
  },
  {
   "cell_type": "code",
   "execution_count": 59,
   "metadata": {},
   "outputs": [
    {
     "data": {
      "text/plain": [
       " 1     108\n",
       "-1      59\n",
       " 99     33\n",
       "Name: sentiment, dtype: int64"
      ]
     },
     "execution_count": 59,
     "metadata": {},
     "output_type": "execute_result"
    }
   ],
   "source": [
    "lyrics[\"sentiment\"].value_counts()"
   ]
  },
  {
   "cell_type": "code",
   "execution_count": null,
   "metadata": {},
   "outputs": [],
   "source": []
  }
 ],
 "metadata": {
  "kernelspec": {
   "display_name": "Python 3",
   "language": "python",
   "name": "python3"
  },
  "language_info": {
   "codemirror_mode": {
    "name": "ipython",
    "version": 3
   },
   "file_extension": ".py",
   "mimetype": "text/x-python",
   "name": "python",
   "nbconvert_exporter": "python",
   "pygments_lexer": "ipython3",
   "version": "3.7.4"
  }
 },
 "nbformat": 4,
 "nbformat_minor": 2
}
